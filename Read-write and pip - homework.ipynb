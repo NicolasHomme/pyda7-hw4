{
 "cells": [
  {
   "cell_type": "markdown",
   "metadata": {},
   "source": [
    "# Домашнее задание\n",
    "1. Переведите содержимое файла purchase_log.txt в словарь purchases вида:\n",
    "```python\n",
    "{'1840e0b9d4': 'Продукты', ...}\n",
    "```\n",
    "\n",
    "2. Для каждого user_id в файле visit_log.csv добавьте третий столбец с категорией покупки (если покупка была).\n",
    "\n",
    "3. Запишите в файл funnel.csv визиты из файла visit_log.csv, в которых были покупки с указанием категории.\n",
    "\n",
    "Учтите условия на данные:\n",
    "- содержимое purchase_log.txt помещается в оперативную память компьютера\n",
    "- содержимое visit_log.csv - нет; используйте только построчную обработку этого файла"
   ]
  },
  {
   "cell_type": "code",
   "execution_count": 31,
   "metadata": {
    "scrolled": true
   },
   "outputs": [
    {
     "name": "stdout",
     "output_type": "stream",
     "text": [
      "закончена загрузка файла из 99517 строк\n",
      "закончена загрузка файла из 199999 строк\n",
      "закончено добавление 3-го столбца для 13798 строк\n",
      "закончена запись файла, завершение работы\n"
     ]
    }
   ],
   "source": [
    "import json\n",
    "purchases = {}\n",
    "users = []\n",
    "list_to_write = []\n",
    "\n",
    "with open('purchase_log.txt',encoding='utf-8') as f:\n",
    "    next(f)\n",
    "    for elements in f.readlines():\n",
    "        temp_dict = json.loads(elements.strip())\n",
    "        purchases[temp_dict['user_id']] = temp_dict['category']\n",
    "print(f'закончена загрузка файла из {len(purchases)} строк')\n",
    "        \n",
    "with open('visit_log.csv',encoding='utf-8') as f:\n",
    "    next(f)\n",
    "    temp_list=[i.strip().split(',') for i in f]\n",
    "    for elements in temp_list:\n",
    "        users.append({'user_id':elements[0],'source':elements[1]})\n",
    "print(f'закончена загрузка файла из {len(users)} строк')\n",
    "           \n",
    "for elements in users:\n",
    "    if purchases.get(elements['user_id']) != None:\n",
    "        list_to_write.append({'user_id':elements['user_id'],'source':elements['source'],'category':purchases[elements['user_id']]})\n",
    "print(f'закончено добавление 3-го столбца для {len(list_to_write)} строк')\n",
    "\n",
    "with open('funnel.csv','w') as f:\n",
    "    for elements in list_to_write:\n",
    "        f.write(elements['user_id']+','+elements['source']+','+elements['category']+'\\n')\n",
    "print(f'закончена запись файла, завершение работы')"
   ]
  },
  {
   "cell_type": "code",
   "execution_count": 20,
   "metadata": {},
   "outputs": [
    {
     "name": "stdout",
     "output_type": "stream",
     "text": [
      "закончена загрузка файлов\n",
      "закончено добавление 3-го столбца\n",
      "закончена запись файла, завершение работы\n"
     ]
    }
   ],
   "source": [
    "\"\"\" \n",
    "Это второй вариант выполнения задания.\n",
    "Работает крайне медленно, т.к. более универсален и помещает файл с логами покупок не в словарь, а в список словарей.\n",
    "Пока так и не понял, как ускорить работу.\n",
    "\"\"\"\n",
    "\n",
    "import json\n",
    "purchases = []\n",
    "users = []\n",
    "list_to_write = []\n",
    "\n",
    "with open('purchase_log.txt',encoding='utf-8') as f:\n",
    "    next(f)\n",
    "    for elements in f.readlines():\n",
    "        purchases.append(json.loads(elements.strip()))\n",
    "print(f'закончена загрузка файла из {len(purchases)} строк')\n",
    "\n",
    "with open('visit_log.csv',encoding='utf-8') as f:\n",
    "    next(f)\n",
    "    temp_list=[i.strip().split(',') for i in f]\n",
    "    for elements in temp_list:\n",
    "        users.append({'user_id':elements[0],'source':elements[1]})\n",
    "print(f'закончена загрузка файла из {len(users)} строк')\n",
    "           \n",
    "for elements in users:\n",
    "    for buys in purchases:\n",
    "        if elements['user_id'] == buys['user_id']:\n",
    "            list_to_write.append({'user_id':elements['user_id'],'source':elements['source'],'category':buys['category']})\n",
    "print(f'закончено добавление 3-го столбца для {len(list_to_write)} строк')\n",
    "\n",
    "with open('funnel.csv','w') as f:\n",
    "    for elements in list_to_write:\n",
    "        f.write(elements['user_id']+','+elements['source']+','+elements['category']+'\\n')\n",
    "print(f'закончена запись файла, завершение работы')"
   ]
  },
  {
   "cell_type": "code",
   "execution_count": null,
   "metadata": {},
   "outputs": [],
   "source": []
  }
 ],
 "metadata": {
  "kernelspec": {
   "display_name": "Python 3",
   "language": "python",
   "name": "python3"
  },
  "language_info": {
   "codemirror_mode": {
    "name": "ipython",
    "version": 3
   },
   "file_extension": ".py",
   "mimetype": "text/x-python",
   "name": "python",
   "nbconvert_exporter": "python",
   "pygments_lexer": "ipython3",
   "version": "3.7.1"
  }
 },
 "nbformat": 4,
 "nbformat_minor": 2
}
